{
 "cells": [
  {
   "cell_type": "markdown",
   "metadata": {},
   "source": [
    "- The main aim of this project is to predict a numeric value, and then read and interpreting an image that uses a handwritten font."
   ]
  },
  {
   "cell_type": "code",
   "execution_count": 1,
   "metadata": {},
   "outputs": [],
   "source": [
    "# Importing the necessary libraries\n",
    "#Standard scientific Python imports\n",
    "import matplotlib.pyplot as plt\n",
    "\n",
    "# Import datasets, classifiers and performance metrics\n",
    "from sklearn import datasets, svm, metrics\n",
    "from sklearn.model_selection import train_test_split\n",
    "import warnings\n",
    "warnings.filterwarnings(\"ignore\")\n",
    "from sklearn.metrics import accuracy_score,confusion_matrix"
   ]
  },
  {
   "cell_type": "markdown",
   "metadata": {},
   "source": [
    "# The digits dataset"
   ]
  },
  {
   "cell_type": "markdown",
   "metadata": {},
   "source": [
    "- scikit-learn has several datasets perloaded and we can directly download the digits dataset from it."
   ]
  },
  {
   "cell_type": "code",
   "execution_count": 2,
   "metadata": {},
   "outputs": [],
   "source": [
    "from sklearn import datasets\n",
    "digits = datasets.load_digits()"
   ]
  },
  {
   "cell_type": "code",
   "execution_count": 3,
   "metadata": {},
   "outputs": [
    {
     "data": {
      "text/plain": [
       "['DESCR', 'data', 'feature_names', 'frame', 'images', 'target', 'target_names']"
      ]
     },
     "execution_count": 3,
     "metadata": {},
     "output_type": "execute_result"
    }
   ],
   "source": [
    "dir(digits)"
   ]
  },
  {
   "cell_type": "code",
   "execution_count": 4,
   "metadata": {
    "scrolled": true
   },
   "outputs": [
    {
     "name": "stdout",
     "output_type": "stream",
     "text": [
      "Shape of Digits data (1797, 64)\n"
     ]
    }
   ],
   "source": [
    "print(\"Shape of Digits data\",digits.data.shape)"
   ]
  },
  {
   "cell_type": "markdown",
   "metadata": {},
   "source": [
    "- There are 1797 images of shape 8 x 8."
   ]
  },
  {
   "cell_type": "markdown",
   "metadata": {},
   "source": [
    "- Let's look at the first 8x8 image at index zero. Each slot in the array corresponds to a pixel, and the value in the slot is the amount of black in the pixel"
   ]
  },
  {
   "cell_type": "code",
   "execution_count": 5,
   "metadata": {
    "scrolled": true
   },
   "outputs": [
    {
     "data": {
      "text/plain": [
       "array([[ 0.,  0.,  5., 13.,  9.,  1.,  0.,  0.],\n",
       "       [ 0.,  0., 13., 15., 10., 15.,  5.,  0.],\n",
       "       [ 0.,  3., 15.,  2.,  0., 11.,  8.,  0.],\n",
       "       [ 0.,  4., 12.,  0.,  0.,  8.,  8.,  0.],\n",
       "       [ 0.,  5.,  8.,  0.,  0.,  9.,  8.,  0.],\n",
       "       [ 0.,  4., 11.,  0.,  1., 12.,  7.,  0.],\n",
       "       [ 0.,  2., 14.,  5., 10., 12.,  0.,  0.],\n",
       "       [ 0.,  0.,  6., 13., 10.,  0.,  0.,  0.]])"
      ]
     },
     "execution_count": 5,
     "metadata": {},
     "output_type": "execute_result"
    }
   ],
   "source": [
    "digits.images[0]"
   ]
  },
  {
   "cell_type": "markdown",
   "metadata": {},
   "source": [
    "- Lets plot the first image"
   ]
  },
  {
   "cell_type": "code",
   "execution_count": 6,
   "metadata": {},
   "outputs": [
    {
     "data": {
      "text/plain": [
       "<matplotlib.image.AxesImage at 0x1d37faa08b0>"
      ]
     },
     "execution_count": 6,
     "metadata": {},
     "output_type": "execute_result"
    },
    {
     "data": {
      "image/png": "[encoded data removed]",
      "text/plain": [
       "<Figure size 432x288 with 1 Axes>"
      ]
     },
     "metadata": {
      "needs_background": "light"
     },
     "output_type": "display_data"
    }
   ],
   "source": [
    "import matplotlib.pyplot as plt\n",
    "%matplotlib inline\n",
    "plt.imshow(digits.images[0], cmap=plt.cm.gray_r, interpolation='nearest')"
   ]
  },
  {
   "cell_type": "code",
   "execution_count": 7,
   "metadata": {
    "scrolled": true
   },
   "outputs": [
    {
     "name": "stdout",
     "output_type": "stream",
     "text": [
      "(1797,)\n",
      "[0 1 2 ... 8 9 8]\n"
     ]
    }
   ],
   "source": [
    "print (digits.target.shape)\n",
    "print (digits.target)"
   ]
  },
  {
   "cell_type": "markdown",
   "metadata": {},
   "source": [
    "- The above line of code gives us the target attribute. There are 1797 images in a 1D array. "
   ]
  },
  {
   "cell_type": "markdown",
   "metadata": {},
   "source": [
    "-  Lets plot some of the digits from our target attribute."
   ]
  },
  {
   "cell_type": "code",
   "execution_count": 8,
   "metadata": {},
   "outputs": [
    {
     "data": {
      "text/plain": [
       "<matplotlib.image.AxesImage at 0x1d37fa5e280>"
      ]
     },
     "execution_count": 8,
     "metadata": {},
     "output_type": "execute_result"
    },
    {
     "data": {
      "image/png": "[encoded data removed]",
      "text/plain": [
       "<Figure size 432x288 with 6 Axes>"
      ]
     },
     "metadata": {
      "needs_background": "light"
     },
     "output_type": "display_data"
    }
   ],
   "source": [
    "import matplotlib.pyplot as plt\n",
    "%matplotlib inline\n",
    "plt.subplot(321)\n",
    "plt.imshow(digits.images[1791], cmap=plt.cm.gray_r,\n",
    "interpolation='nearest')\n",
    "plt.subplot(322)\n",
    "plt.imshow(digits.images[1792], cmap=plt.cm.gray_r,\n",
    "interpolation='nearest')\n",
    "plt.subplot(323)\n",
    "plt.imshow(digits.images[1793], cmap=plt.cm.gray_r,\n",
    "interpolation='nearest')\n",
    "plt.subplot(324)\n",
    "plt.imshow(digits.images[1794], cmap=plt.cm.gray_r,\n",
    "interpolation='nearest')\n",
    "plt.subplot(325)\n",
    "plt.imshow(digits.images[1795], cmap=plt.cm.gray_r,\n",
    "interpolation='nearest')\n",
    "plt.subplot(326)\n",
    "plt.imshow(digits.images[1796], cmap=plt.cm.gray_r,\n",
    "interpolation='nearest')"
   ]
  },
  {
   "cell_type": "markdown",
   "metadata": {},
   "source": [
    "- We can observe that while images have been printed,some of the digits have a very poor resolution making it difficult for us to recognize them. In this context, our neural-networks will also perform poorly. So scikit-learn plays a key role in creating, training, and evaluating a neural network. "
   ]
  },
  {
   "cell_type": "markdown",
   "metadata": {},
   "source": [
    "- Lets split our data into train,test and validation parts."
   ]
  },
  {
   "cell_type": "code",
   "execution_count": 9,
   "metadata": {},
   "outputs": [],
   "source": [
    "from sklearn.model_selection import train_test_split\n",
    "X_train, X_test, y_train, y_test = train_test_split(digits.data,digits.target,test_size=0.2, random_state=1)\n",
    "\n",
    "X_train, X_val, y_train, y_val = train_test_split(X_train, y_train, test_size=0.25, random_state=1) # 0.25 x 0.8 = 0.2"
   ]
  },
  {
   "cell_type": "code",
   "execution_count": 10,
   "metadata": {},
   "outputs": [],
   "source": [
    "# Selecting the model \n",
    "from sklearn import svm\n",
    "svc=svm.SVC(gamma=0.001,C=100)"
   ]
  },
  {
   "cell_type": "code",
   "execution_count": 11,
   "metadata": {},
   "outputs": [],
   "source": [
    "model=svc"
   ]
  },
  {
   "cell_type": "code",
   "execution_count": 12,
   "metadata": {},
   "outputs": [
    {
     "data": {
      "text/plain": [
       "0.9916666666666667"
      ]
     },
     "execution_count": 12,
     "metadata": {},
     "output_type": "execute_result"
    }
   ],
   "source": [
    "# This is for test data\n",
    "model.fit(X_train,y_train)\n",
    "y_predict=model.predict(X_test)\n",
    "accuracy_score(y_test,y_predict)"
   ]
  },
  {
   "cell_type": "code",
   "execution_count": 13,
   "metadata": {
    "collapsed": true
   },
   "outputs": [
    {
     "data": {
      "text/plain": [
       "array([1, 5, 0, 7, 1, 0, 6, 1, 5, 4, 9, 2, 7, 8, 4, 6, 9, 3, 7, 4, 7, 1,\n",
       "       8, 6, 0, 9, 6, 1, 3, 7, 5, 9, 8, 3, 2, 8, 8, 1, 1, 0, 7, 9, 0, 0,\n",
       "       8, 7, 2, 7, 4, 3, 4, 3, 4, 0, 4, 7, 0, 5, 5, 5, 2, 1, 7, 0, 5, 1,\n",
       "       8, 3, 3, 4, 0, 3, 7, 4, 3, 4, 2, 9, 7, 3, 2, 5, 3, 4, 1, 5, 5, 2,\n",
       "       5, 2, 2, 2, 2, 7, 0, 8, 1, 7, 4, 2, 3, 8, 2, 3, 3, 0, 2, 9, 5, 2,\n",
       "       3, 2, 8, 1, 1, 9, 1, 2, 0, 4, 8, 5, 4, 4, 7, 6, 7, 6, 6, 1, 7, 5,\n",
       "       6, 3, 8, 3, 7, 1, 8, 5, 3, 4, 7, 8, 5, 0, 6, 0, 6, 3, 7, 6, 5, 6,\n",
       "       2, 2, 2, 3, 0, 7, 6, 5, 6, 4, 1, 0, 6, 0, 6, 4, 0, 9, 3, 8, 1, 2,\n",
       "       3, 1, 9, 0, 7, 6, 2, 9, 3, 5, 3, 4, 6, 3, 3, 7, 4, 9, 2, 7, 6, 1,\n",
       "       6, 8, 4, 0, 3, 1, 0, 9, 9, 9, 0, 1, 8, 6, 8, 0, 9, 5, 9, 8, 2, 3,\n",
       "       5, 3, 0, 8, 7, 4, 0, 3, 3, 3, 6, 3, 3, 2, 9, 1, 6, 9, 0, 4, 2, 2,\n",
       "       7, 9, 1, 6, 7, 6, 3, 9, 1, 9, 3, 4, 0, 6, 4, 8, 5, 3, 6, 3, 1, 4,\n",
       "       0, 4, 4, 8, 7, 9, 1, 5, 2, 7, 0, 9, 0, 4, 4, 0, 1, 0, 6, 4, 2, 8,\n",
       "       5, 0, 2, 6, 0, 1, 8, 2, 0, 9, 5, 6, 2, 0, 5, 0, 9, 1, 4, 7, 1, 7,\n",
       "       0, 6, 6, 8, 0, 2, 2, 6, 9, 9, 7, 5, 1, 7, 6, 4, 6, 1, 9, 4, 7, 1,\n",
       "       3, 7, 8, 1, 6, 9, 8, 3, 2, 4, 8, 7, 5, 5, 6, 9, 9, 1, 5, 0, 0, 4,\n",
       "       9, 3, 0, 4, 9, 4, 2, 5])"
      ]
     },
     "execution_count": 13,
     "metadata": {},
     "output_type": "execute_result"
    }
   ],
   "source": [
    "y_predict"
   ]
  },
  {
   "cell_type": "code",
   "execution_count": 15,
   "metadata": {
    "collapsed": true
   },
   "outputs": [
    {
     "data": {
      "text/plain": [
       "array([[43,  0,  0,  0,  0,  0,  0,  0,  0,  0],\n",
       "       [ 0, 35,  0,  0,  0,  0,  0,  0,  0,  0],\n",
       "       [ 0,  0, 36,  0,  0,  0,  0,  0,  0,  0],\n",
       "       [ 0,  0,  0, 41,  0,  0,  0,  0,  0,  0],\n",
       "       [ 0,  0,  0,  0, 38,  0,  0,  0,  0,  0],\n",
       "       [ 0,  0,  0,  0,  0, 30,  0,  0,  0,  0],\n",
       "       [ 0,  0,  0,  0,  0,  0, 37,  0,  0,  0],\n",
       "       [ 0,  0,  0,  0,  0,  0,  0, 36,  0,  1],\n",
       "       [ 0,  1,  0,  0,  0,  0,  0,  0, 28,  0],\n",
       "       [ 0,  0,  0,  0,  0,  1,  0,  0,  0, 33]], dtype=int64)"
      ]
     },
     "execution_count": 15,
     "metadata": {},
     "output_type": "execute_result"
    }
   ],
   "source": [
    "confusion_matrix(y_test,y_predict)"
   ]
  },
  {
   "cell_type": "code",
   "execution_count": 16,
   "metadata": {},
   "outputs": [
    {
     "data": {
      "text/plain": [
       "0.9888888888888889"
      ]
     },
     "execution_count": 16,
     "metadata": {},
     "output_type": "execute_result"
    }
   ],
   "source": [
    "# For validation data\n",
    "model.fit(X_train,y_train)\n",
    "y_predict=model.predict(X_val)\n",
    "accuracy_score(y_predict,y_val)"
   ]
  },
  {
   "cell_type": "code",
   "execution_count": 17,
   "metadata": {
    "collapsed": true
   },
   "outputs": [
    {
     "data": {
      "text/plain": [
       "array([6, 5, 5, 0, 7, 9, 1, 2, 3, 2, 8, 0, 7, 0, 3, 0, 7, 9, 3, 8, 8, 1,\n",
       "       2, 7, 2, 6, 8, 5, 6, 2, 5, 5, 6, 5, 7, 3, 0, 8, 9, 4, 5, 2, 8, 5,\n",
       "       8, 6, 4, 3, 5, 0, 9, 1, 6, 6, 2, 5, 7, 0, 9, 3, 4, 8, 3, 2, 3, 4,\n",
       "       6, 9, 3, 7, 2, 7, 7, 4, 6, 9, 4, 9, 2, 2, 0, 3, 3, 0, 4, 9, 5, 5,\n",
       "       0, 3, 5, 7, 5, 0, 5, 6, 8, 2, 4, 6, 9, 4, 2, 3, 4, 7, 6, 1, 9, 8,\n",
       "       5, 9, 6, 8, 4, 1, 6, 7, 2, 1, 9, 9, 1, 6, 8, 8, 8, 1, 1, 3, 3, 2,\n",
       "       0, 8, 7, 6, 2, 4, 6, 6, 5, 2, 4, 6, 4, 4, 1, 9, 4, 7, 8, 9, 5, 7,\n",
       "       8, 9, 9, 7, 9, 3, 2, 0, 3, 8, 0, 8, 3, 7, 8, 1, 5, 3, 4, 5, 6, 9,\n",
       "       7, 7, 1, 1, 9, 9, 4, 4, 1, 5, 7, 6, 9, 7, 7, 5, 7, 0, 4, 1, 9, 5,\n",
       "       7, 0, 8, 8, 6, 7, 0, 1, 8, 2, 7, 4, 1, 9, 4, 4, 1, 3, 5, 7, 3, 6,\n",
       "       9, 9, 7, 8, 8, 9, 6, 1, 0, 2, 7, 8, 9, 3, 6, 0, 2, 4, 4, 0, 7, 8,\n",
       "       6, 1, 1, 9, 8, 1, 0, 8, 8, 1, 7, 4, 6, 2, 7, 9, 1, 8, 5, 6, 4, 9,\n",
       "       9, 0, 2, 9, 9, 6, 2, 7, 8, 7, 5, 8, 8, 2, 0, 1, 1, 9, 4, 7, 1, 1,\n",
       "       3, 4, 6, 7, 7, 0, 0, 1, 2, 6, 5, 5, 9, 0, 5, 5, 9, 8, 0, 6, 6, 3,\n",
       "       3, 0, 4, 7, 8, 2, 7, 3, 7, 9, 9, 0, 2, 5, 3, 1, 6, 4, 2, 3, 5, 5,\n",
       "       3, 5, 9, 0, 3, 9, 7, 2, 2, 9, 1, 1, 6, 1, 0, 3, 9, 4, 0, 6, 4, 9,\n",
       "       7, 3, 8, 5, 7, 0, 9, 5])"
      ]
     },
     "execution_count": 17,
     "metadata": {},
     "output_type": "execute_result"
    }
   ],
   "source": [
    "y_val"
   ]
  },
  {
   "cell_type": "code",
   "execution_count": 18,
   "metadata": {
    "collapsed": true
   },
   "outputs": [
    {
     "data": {
      "text/plain": [
       "array([[2, 2, 5, 1, 6, 6, 4, 6, 6, 5],\n",
       "       [4, 3, 3, 1, 7, 3, 4, 3, 6, 1],\n",
       "       [2, 2, 3, 3, 5, 3, 3, 5, 4, 6],\n",
       "       [3, 3, 3, 5, 2, 3, 6, 8, 3, 5],\n",
       "       [6, 4, 5, 2, 3, 2, 3, 4, 3, 6],\n",
       "       [5, 2, 1, 6, 1, 8, 2, 1, 0, 4],\n",
       "       [4, 5, 3, 5, 3, 2, 1, 5, 3, 6],\n",
       "       [2, 2, 4, 6, 1, 6, 3, 3, 7, 3],\n",
       "       [4, 3, 1, 1, 3, 1, 6, 4, 2, 4],\n",
       "       [1, 7, 3, 2, 2, 2, 4, 4, 3, 6]], dtype=int64)"
      ]
     },
     "execution_count": 18,
     "metadata": {},
     "output_type": "execute_result"
    }
   ],
   "source": [
    "confusion_matrix(y_test,y_val)"
   ]
  },
  {
   "cell_type": "code",
   "execution_count": 19,
   "metadata": {},
   "outputs": [
    {
     "data": {
      "text/plain": [
       "array([4, 9, 0, 8, 9])"
      ]
     },
     "execution_count": 19,
     "metadata": {},
     "output_type": "execute_result"
    }
   ],
   "source": [
    "svc.predict(digits.data[1791:1796])"
   ]
  },
  {
   "cell_type": "markdown",
   "metadata": {},
   "source": [
    "# Lets' run this model for few other training and validation sets."
   ]
  },
  {
   "cell_type": "code",
   "execution_count": 20,
   "metadata": {},
   "outputs": [],
   "source": [
    "X_train, X_test, y_train, y_test = train_test_split(digits.data,digits.target,test_size=0.25, random_state=10)\n",
    "\n",
    "X_train, X_val, y_train, y_val = train_test_split(X_train, y_train, test_size=0.3, random_state=10) "
   ]
  },
  {
   "cell_type": "code",
   "execution_count": 21,
   "metadata": {},
   "outputs": [
    {
     "data": {
      "text/plain": [
       "0.9866666666666667"
      ]
     },
     "execution_count": 21,
     "metadata": {},
     "output_type": "execute_result"
    }
   ],
   "source": [
    "model.fit(X_train,y_train)\n",
    "y_predict=model.predict(X_test)\n",
    "accuracy_score(y_test,y_predict)"
   ]
  },
  {
   "cell_type": "code",
   "execution_count": 22,
   "metadata": {
    "collapsed": true
   },
   "outputs": [
    {
     "data": {
      "text/plain": [
       "array([5, 2, 5, 4, 8, 2, 4, 3, 3, 0, 8, 7, 0, 1, 8, 6, 9, 7, 9, 7, 1, 8,\n",
       "       6, 7, 8, 8, 5, 2, 5, 9, 3, 3, 7, 3, 4, 1, 9, 2, 5, 4, 2, 1, 0, 9,\n",
       "       2, 3, 6, 1, 9, 4, 4, 5, 8, 4, 8, 5, 9, 7, 8, 0, 4, 5, 8, 4, 7, 9,\n",
       "       0, 7, 1, 3, 9, 3, 3, 8, 0, 7, 3, 6, 5, 2, 0, 8, 8, 0, 1, 1, 2, 8,\n",
       "       8, 8, 2, 6, 3, 4, 7, 9, 8, 2, 9, 2, 5, 0, 8, 0, 4, 8, 8, 0, 6, 7,\n",
       "       3, 3, 9, 1, 5, 4, 6, 0, 8, 8, 1, 1, 7, 9, 9, 5, 2, 3, 3, 8, 7, 6,\n",
       "       2, 5, 4, 3, 3, 7, 6, 7, 2, 7, 4, 9, 5, 1, 9, 8, 6, 1, 1, 1, 4, 0,\n",
       "       8, 9, 1, 2, 3, 5, 0, 3, 4, 1, 5, 4, 9, 3, 5, 6, 4, 0, 8, 6, 7, 0,\n",
       "       9, 9, 4, 7, 3, 5, 2, 0, 6, 7, 5, 3, 9, 7, 1, 3, 2, 8, 3, 3, 1, 7,\n",
       "       1, 1, 1, 7, 1, 6, 7, 6, 9, 5, 2, 3, 5, 2, 9, 5, 4, 8, 2, 9, 1, 5,\n",
       "       4, 2, 3, 9, 0, 2, 0, 2, 1, 0, 5, 0, 6, 4, 2, 1, 9, 0, 9, 0, 6, 9,\n",
       "       4, 4, 9, 7, 5, 6, 1, 8, 7, 0, 8, 6, 2, 0, 1, 2, 3, 8, 4, 4, 3, 5,\n",
       "       7, 9, 7, 2, 0, 2, 0, 9, 2, 8, 6, 3, 6, 0, 6, 6, 6, 7, 1, 6, 1, 7,\n",
       "       6, 0, 6, 3, 7, 4, 6, 2, 8, 0, 8, 4, 7, 3, 3, 0, 0, 2, 3, 9, 7, 4,\n",
       "       6, 7, 9, 7, 6, 0, 5, 6, 2, 7, 1, 0, 5, 1, 6, 4, 7, 2, 5, 1, 4, 6,\n",
       "       6, 5, 0, 2, 9, 8, 7, 9, 6, 7, 0, 8, 3, 5, 9, 4, 1, 5, 5, 4, 7, 3,\n",
       "       9, 2, 7, 3, 3, 6, 6, 3, 2, 1, 9, 8, 3, 0, 8, 7, 0, 4, 2, 1, 1, 2,\n",
       "       9, 8, 5, 1, 7, 9, 8, 7, 5, 4, 2, 5, 5, 4, 2, 4, 6, 5, 0, 8, 2, 0,\n",
       "       6, 6, 3, 6, 5, 3, 0, 9, 7, 1, 6, 7, 4, 7, 3, 2, 5, 2, 1, 2, 6, 8,\n",
       "       0, 1, 9, 7, 6, 9, 9, 2, 9, 1, 0, 9, 9, 8, 3, 6, 1, 1, 3, 0, 6, 8,\n",
       "       3, 2, 0, 3, 4, 5, 5, 8, 8, 6])"
      ]
     },
     "execution_count": 22,
     "metadata": {},
     "output_type": "execute_result"
    }
   ],
   "source": [
    "y_predict"
   ]
  },
  {
   "cell_type": "code",
   "execution_count": 23,
   "metadata": {
    "collapsed": true
   },
   "outputs": [
    {
     "data": {
      "text/plain": [
       "array([[45,  0,  0,  0,  1,  0,  0,  0,  0,  0],\n",
       "       [ 0, 44,  0,  0,  0,  0,  0,  0,  0,  0],\n",
       "       [ 0,  0, 45,  0,  0,  0,  0,  0,  0,  0],\n",
       "       [ 0,  0,  1, 47,  0,  0,  0,  0,  0,  0],\n",
       "       [ 0,  0,  0,  0, 38,  0,  0,  0,  2,  0],\n",
       "       [ 0,  0,  0,  0,  0, 41,  0,  0,  0,  0],\n",
       "       [ 0,  0,  0,  0,  0,  0, 47,  0,  0,  0],\n",
       "       [ 0,  0,  0,  0,  0,  0,  0, 47,  0,  0],\n",
       "       [ 0,  0,  0,  0,  0,  0,  0,  0, 43,  0],\n",
       "       [ 0,  0,  0,  0,  0,  1,  0,  0,  1, 47]], dtype=int64)"
      ]
     },
     "execution_count": 23,
     "metadata": {},
     "output_type": "execute_result"
    }
   ],
   "source": [
    "confusion_matrix(y_test,y_predict)"
   ]
  },
  {
   "cell_type": "code",
   "execution_count": 24,
   "metadata": {},
   "outputs": [
    {
     "data": {
      "text/plain": [
       "0.9851851851851852"
      ]
     },
     "execution_count": 24,
     "metadata": {},
     "output_type": "execute_result"
    }
   ],
   "source": [
    "# For validation data\n",
    "model.fit(X_train,y_train)\n",
    "y_predict=model.predict(X_val)\n",
    "accuracy_score(y_predict,y_val)"
   ]
  },
  {
   "cell_type": "code",
   "execution_count": 25,
   "metadata": {
    "collapsed": true
   },
   "outputs": [
    {
     "data": {
      "text/plain": [
       "array([5, 1, 4, 2, 4, 1, 4, 6, 4, 6, 5, 5, 3, 4, 9, 6, 5, 9, 7, 3, 2, 2,\n",
       "       4, 5, 7, 6, 6, 2, 0, 6, 0, 3, 8, 9, 6, 3, 3, 4, 1, 7, 1, 9, 1, 9,\n",
       "       4, 7, 7, 4, 6, 5, 2, 8, 2, 7, 9, 5, 1, 3, 7, 6, 1, 0, 7, 7, 3, 9,\n",
       "       7, 7, 3, 6, 9, 8, 4, 0, 8, 4, 5, 8, 4, 2, 8, 5, 1, 5, 3, 1, 0, 3,\n",
       "       1, 6, 1, 3, 0, 5, 5, 5, 8, 0, 1, 8, 6, 6, 6, 1, 6, 8, 7, 2, 1, 5,\n",
       "       1, 4, 7, 0, 3, 9, 6, 4, 8, 3, 2, 9, 0, 8, 8, 4, 5, 6, 8, 3, 2, 0,\n",
       "       1, 0, 2, 1, 5, 3, 4, 1, 2, 8, 8, 0, 9, 9, 9, 4, 3, 0, 2, 6, 4, 6,\n",
       "       7, 1, 9, 7, 2, 0, 3, 9, 4, 9, 6, 5, 2, 4, 3, 5, 4, 0, 5, 0, 9, 3,\n",
       "       9, 1, 9, 8, 5, 1, 7, 8, 9, 2, 0, 4, 2, 1, 1, 0, 9, 4, 2, 2, 3, 8,\n",
       "       3, 8, 6, 5, 7, 3, 2, 3, 6, 1, 6, 3, 8, 6, 5, 1, 2, 5, 0, 7, 7, 0,\n",
       "       8, 3, 2, 6, 5, 1, 8, 3, 9, 3, 5, 3, 5, 6, 7, 4, 6, 8, 6, 0, 3, 0,\n",
       "       0, 7, 0, 8, 3, 9, 1, 3, 5, 6, 1, 1, 0, 1, 3, 1, 9, 4, 4, 9, 8, 6,\n",
       "       2, 2, 4, 7, 4, 5, 8, 3, 4, 7, 7, 2, 5, 5, 2, 4, 3, 9, 2, 5, 7, 5,\n",
       "       4, 5, 0, 3, 1, 2, 7, 6, 9, 1, 8, 9, 9, 0, 3, 1, 6, 4, 0, 6, 4, 8,\n",
       "       6, 7, 1, 0, 7, 5, 2, 9, 2, 9, 6, 6, 7, 1, 1, 9, 6, 8, 0, 6, 7, 8,\n",
       "       1, 8, 2, 1, 2, 9, 2, 8, 8, 9, 0, 9, 5, 1, 7, 5, 7, 9, 9, 2, 6, 6,\n",
       "       7, 1, 8, 5, 9, 4, 0, 0, 9, 0, 1, 9, 0, 6, 3, 7, 2, 9, 0, 5, 1, 7,\n",
       "       6, 6, 0, 2, 3, 1, 3, 4, 1, 8, 6, 6, 0, 4, 9, 3, 1, 4, 9, 5, 6, 6,\n",
       "       7, 2, 8, 1, 3, 5, 7, 0, 9])"
      ]
     },
     "execution_count": 25,
     "metadata": {},
     "output_type": "execute_result"
    }
   ],
   "source": [
    "y_val"
   ]
  },
  {
   "cell_type": "code",
   "execution_count": 28,
   "metadata": {
    "scrolled": true
   },
   "outputs": [
    {
     "data": {
      "text/plain": [
       "<matplotlib.image.AxesImage at 0x1d37f954bb0>"
      ]
     },
     "execution_count": 28,
     "metadata": {},
     "output_type": "execute_result"
    },
    {
     "data": {
      "image/png": "[encoded data removed]",
      "text/plain": [
       "<Figure size 432x288 with 6 Axes>"
      ]
     },
     "metadata": {
      "needs_background": "light"
     },
     "output_type": "display_data"
    }
   ],
   "source": [
    "plt.subplot(321)\n",
    "plt.imshow(digits.images[1781], cmap=plt.cm.gray_r,\n",
    "interpolation='nearest')\n",
    "plt.subplot(322)\n",
    "plt.imshow(digits.images[1782], cmap=plt.cm.gray_r,\n",
    "interpolation='nearest')\n",
    "plt.subplot(323)\n",
    "plt.imshow(digits.images[1783], cmap=plt.cm.gray_r,\n",
    "interpolation='nearest')\n",
    "plt.subplot(324)\n",
    "plt.imshow(digits.images[1784], cmap=plt.cm.gray_r,\n",
    "interpolation='nearest')\n",
    "plt.subplot(325)\n",
    "plt.imshow(digits.images[1785], cmap=plt.cm.gray_r,\n",
    "interpolation='nearest')\n",
    "plt.subplot(326)\n",
    "plt.imshow(digits.images[1786], cmap=plt.cm.gray_r,\n",
    "interpolation='nearest')"
   ]
  },
  {
   "cell_type": "code",
   "execution_count": 32,
   "metadata": {},
   "outputs": [
    {
     "data": {
      "text/plain": [
       "array([ 0.,  0.,  1., 10., 14., 13.,  1.,  0.,  0.,  0.,  8., 12.,  6.,\n",
       "        4.,  0.,  0.,  0.,  0., 14.,  4.,  0.,  0.,  0.,  0.,  0.,  5.,\n",
       "       16., 12., 13., 12.,  0.,  0.,  0.,  2., 11., 11.,  8., 14.,  4.,\n",
       "        0.,  0.,  0.,  0.,  0.,  0., 16.,  4.,  0.,  0.,  0.,  0.,  0.,\n",
       "        6., 15.,  2.,  0.,  0.,  0.,  0., 12., 14.,  4.,  0.,  0.])"
      ]
     },
     "execution_count": 32,
     "metadata": {},
     "output_type": "execute_result"
    }
   ],
   "source": [
    "digits.data[1784]"
   ]
  },
  {
   "cell_type": "code",
   "execution_count": 30,
   "metadata": {},
   "outputs": [
    {
     "data": {
      "text/plain": [
       "array([8, 2, 2, 5, 7, 9])"
      ]
     },
     "execution_count": 30,
     "metadata": {},
     "output_type": "execute_result"
    }
   ],
   "source": [
    "svc.predict(digits.data[1781:1787])"
   ]
  },
  {
   "cell_type": "code",
   "execution_count": 27,
   "metadata": {},
   "outputs": [],
   "source": [
    "X_train, X_test, y_train, y_test = train_test_split(digits.data,digits.target,test_size=0.3, random_state=20)\n",
    "\n",
    "X_train, X_val, y_train, y_val = train_test_split(X_train, y_train, test_size=0.35, random_state=20) "
   ]
  },
  {
   "cell_type": "code",
   "execution_count": 34,
   "metadata": {},
   "outputs": [
    {
     "data": {
      "text/plain": [
       "0.987037037037037"
      ]
     },
     "execution_count": 34,
     "metadata": {},
     "output_type": "execute_result"
    }
   ],
   "source": [
    "# This is for test data\n",
    "model.fit(X_train,y_train)\n",
    "y_predict=model.predict(X_test)\n",
    "accuracy_score(y_test,y_predict)"
   ]
  },
  {
   "cell_type": "code",
   "execution_count": 35,
   "metadata": {},
   "outputs": [
    {
     "data": {
      "text/plain": [
       "0.9840909090909091"
      ]
     },
     "execution_count": 35,
     "metadata": {},
     "output_type": "execute_result"
    }
   ],
   "source": [
    "# For validation data\n",
    "model.fit(X_train,y_train)\n",
    "y_predict=model.predict(X_val)\n",
    "accuracy_score(y_predict,y_val)"
   ]
  },
  {
   "cell_type": "code",
   "execution_count": null,
   "metadata": {},
   "outputs": [],
   "source": []
  }
 ],
 "metadata": {
  "kernelspec": {
   "display_name": "Python 3",
   "language": "python",
   "name": "python3"
  },
  "language_info": {
   "codemirror_mode": {
    "name": "ipython",
    "version": 3
   },
   "file_extension": ".py",
   "mimetype": "text/x-python",
   "name": "python",
   "nbconvert_exporter": "python",
   "pygments_lexer": "ipython3",
   "version": "3.8.3"
  }
 },
 "nbformat": 4,
 "nbformat_minor": 4
}
